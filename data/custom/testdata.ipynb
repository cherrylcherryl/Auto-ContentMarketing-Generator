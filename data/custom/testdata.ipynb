{
 "cells": [
  {
   "cell_type": "code",
   "execution_count": 1,
   "metadata": {},
   "outputs": [],
   "source": [
    "import json\n",
    "import pandas as pd\n",
    "import ast"
   ]
  },
  {
   "cell_type": "code",
   "execution_count": 2,
   "metadata": {},
   "outputs": [],
   "source": [
    "df = pd.read_csv(\"company_reviews.csv\", encoding=\"utf-8\")"
   ]
  },
  {
   "cell_type": "code",
   "execution_count": 3,
   "metadata": {},
   "outputs": [
    {
     "data": {
      "text/html": [
       "<div>\n",
       "<style scoped>\n",
       "    .dataframe tbody tr th:only-of-type {\n",
       "        vertical-align: middle;\n",
       "    }\n",
       "\n",
       "    .dataframe tbody tr th {\n",
       "        vertical-align: top;\n",
       "    }\n",
       "\n",
       "    .dataframe thead th {\n",
       "        text-align: right;\n",
       "    }\n",
       "</style>\n",
       "<table border=\"1\" class=\"dataframe\">\n",
       "  <thead>\n",
       "    <tr style=\"text-align: right;\">\n",
       "      <th></th>\n",
       "      <th>name</th>\n",
       "      <th>rating</th>\n",
       "      <th>reviews</th>\n",
       "      <th>description</th>\n",
       "      <th>happiness</th>\n",
       "      <th>ceo_approval</th>\n",
       "      <th>ceo_count</th>\n",
       "      <th>ratings</th>\n",
       "      <th>locations</th>\n",
       "      <th>roles</th>\n",
       "      <th>salary</th>\n",
       "      <th>interview_experience</th>\n",
       "      <th>interview_difficulty</th>\n",
       "      <th>interview_duration</th>\n",
       "      <th>interview_count</th>\n",
       "      <th>headquarters</th>\n",
       "      <th>employees</th>\n",
       "      <th>industry</th>\n",
       "      <th>revenue</th>\n",
       "      <th>website</th>\n",
       "    </tr>\n",
       "  </thead>\n",
       "  <tbody>\n",
       "    <tr>\n",
       "      <th>0</th>\n",
       "      <td>Sitel</td>\n",
       "      <td>NaN</td>\n",
       "      <td>NaN</td>\n",
       "      <td>Sitel Group’s 75,000 people across the globe c...</td>\n",
       "      <td>{'Work Happiness Score': '55', 'Achievement': ...</td>\n",
       "      <td>70%</td>\n",
       "      <td>CEO Approval is based on 4,612 ratings</td>\n",
       "      <td>{'Work/Life Balance': '3.4', 'Compensation/Ben...</td>\n",
       "      <td>{'Paradise, NV': '5.0', 'Pioneer, OH': '4.7', ...</td>\n",
       "      <td>{'Tier 1 Agent': '5.0', 'Director of Operation...</td>\n",
       "      <td>{'Customer Service Representative': '$14.48 pe...</td>\n",
       "      <td>Favorable</td>\n",
       "      <td>Easy</td>\n",
       "      <td>About a day or two</td>\n",
       "      <td>Based on 645 interviews</td>\n",
       "      <td>600 Brickell Ave Miami, FL 33131 Vereinigte St...</td>\n",
       "      <td>10,000+</td>\n",
       "      <td>Telecommunications</td>\n",
       "      <td>$1B to $5B (USD)</td>\n",
       "      <td>Twitter\\nFacebook\\nSitel website</td>\n",
       "    </tr>\n",
       "    <tr>\n",
       "      <th>1</th>\n",
       "      <td>Meadowbrook Rehabilitation</td>\n",
       "      <td>3.7</td>\n",
       "      <td>21 reviews</td>\n",
       "      <td>You'll work with the most experienced and loya...</td>\n",
       "      <td>{}</td>\n",
       "      <td>NaN</td>\n",
       "      <td>NaN</td>\n",
       "      <td>{'Work/Life Balance': '4.1', 'Compensation/Ben...</td>\n",
       "      <td>{}</td>\n",
       "      <td>{}</td>\n",
       "      <td>{}</td>\n",
       "      <td>Favorable</td>\n",
       "      <td>Easy</td>\n",
       "      <td>NaN</td>\n",
       "      <td>Based on 5 interviews</td>\n",
       "      <td>Illinois</td>\n",
       "      <td>NaN</td>\n",
       "      <td>Healthcare</td>\n",
       "      <td>NaN</td>\n",
       "      <td>Meadowbrook Rehabilitation website</td>\n",
       "    </tr>\n",
       "  </tbody>\n",
       "</table>\n",
       "</div>"
      ],
      "text/plain": [
       "                         name  rating     reviews  \\\n",
       "0                       Sitel     NaN         NaN   \n",
       "1  Meadowbrook Rehabilitation     3.7  21 reviews   \n",
       "\n",
       "                                         description  \\\n",
       "0  Sitel Group’s 75,000 people across the globe c...   \n",
       "1  You'll work with the most experienced and loya...   \n",
       "\n",
       "                                           happiness ceo_approval  \\\n",
       "0  {'Work Happiness Score': '55', 'Achievement': ...          70%   \n",
       "1                                                 {}          NaN   \n",
       "\n",
       "                                ceo_count  \\\n",
       "0  CEO Approval is based on 4,612 ratings   \n",
       "1                                     NaN   \n",
       "\n",
       "                                             ratings  \\\n",
       "0  {'Work/Life Balance': '3.4', 'Compensation/Ben...   \n",
       "1  {'Work/Life Balance': '4.1', 'Compensation/Ben...   \n",
       "\n",
       "                                           locations  \\\n",
       "0  {'Paradise, NV': '5.0', 'Pioneer, OH': '4.7', ...   \n",
       "1                                                 {}   \n",
       "\n",
       "                                               roles  \\\n",
       "0  {'Tier 1 Agent': '5.0', 'Director of Operation...   \n",
       "1                                                 {}   \n",
       "\n",
       "                                              salary interview_experience  \\\n",
       "0  {'Customer Service Representative': '$14.48 pe...            Favorable   \n",
       "1                                                 {}            Favorable   \n",
       "\n",
       "  interview_difficulty  interview_duration          interview_count  \\\n",
       "0                 Easy  About a day or two  Based on 645 interviews   \n",
       "1                 Easy                 NaN    Based on 5 interviews   \n",
       "\n",
       "                                        headquarters employees  \\\n",
       "0  600 Brickell Ave Miami, FL 33131 Vereinigte St...   10,000+   \n",
       "1                                           Illinois       NaN   \n",
       "\n",
       "             industry           revenue                             website  \n",
       "0  Telecommunications  $1B to $5B (USD)    Twitter\\nFacebook\\nSitel website  \n",
       "1          Healthcare               NaN  Meadowbrook Rehabilitation website  "
      ]
     },
     "execution_count": 3,
     "metadata": {},
     "output_type": "execute_result"
    }
   ],
   "source": [
    "df.head(2)"
   ]
  },
  {
   "cell_type": "code",
   "execution_count": 13,
   "metadata": {},
   "outputs": [],
   "source": [
    "\n",
    "    "
   ]
  },
  {
   "cell_type": "code",
   "execution_count": 17,
   "metadata": {},
   "outputs": [
    {
     "data": {
      "text/plain": [
       "{'Work Happiness Score': '55',\n",
       " 'Achievement': '64',\n",
       " 'Learning': '62',\n",
       " 'Flexibility': '61',\n",
       " 'Support': '60',\n",
       " 'Compensation': '60',\n",
       " 'Purpose': '60',\n",
       " 'Appreciation': '59',\n",
       " 'Management': '57',\n",
       " 'Inclusion': '56',\n",
       " 'Energy': '56',\n",
       " 'Trust': '53',\n",
       " 'Belonging': '52'}"
      ]
     },
     "execution_count": 17,
     "metadata": {},
     "output_type": "execute_result"
    }
   ],
   "source": [
    "ast.literal_eval(j)"
   ]
  },
  {
   "cell_type": "code",
   "execution_count": null,
   "metadata": {},
   "outputs": [],
   "source": []
  }
 ],
 "metadata": {
  "kernelspec": {
   "display_name": "env",
   "language": "python",
   "name": "python3"
  },
  "language_info": {
   "codemirror_mode": {
    "name": "ipython",
    "version": 3
   },
   "file_extension": ".py",
   "mimetype": "text/x-python",
   "name": "python",
   "nbconvert_exporter": "python",
   "pygments_lexer": "ipython3",
   "version": "3.11.4"
  },
  "orig_nbformat": 4
 },
 "nbformat": 4,
 "nbformat_minor": 2
}
